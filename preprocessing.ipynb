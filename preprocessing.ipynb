{
 "cells": [
  {
   "cell_type": "code",
   "execution_count": 43,
   "metadata": {},
   "outputs": [],
   "source": [
    "import pandas as pd\n",
    "import numpy as np"
   ]
  },
  {
   "cell_type": "code",
   "execution_count": 8,
   "metadata": {},
   "outputs": [
    {
     "data": {
      "text/html": [
       "<div>\n",
       "<style>\n",
       "    .dataframe thead tr:only-child th {\n",
       "        text-align: right;\n",
       "    }\n",
       "\n",
       "    .dataframe thead th {\n",
       "        text-align: left;\n",
       "    }\n",
       "\n",
       "    .dataframe tbody tr th {\n",
       "        vertical-align: top;\n",
       "    }\n",
       "</style>\n",
       "<table border=\"1\" class=\"dataframe\">\n",
       "  <thead>\n",
       "    <tr style=\"text-align: right;\">\n",
       "      <th></th>\n",
       "      <th>CrimeDate</th>\n",
       "      <th>CrimeTime</th>\n",
       "      <th>CrimeCode</th>\n",
       "      <th>Location</th>\n",
       "      <th>Description</th>\n",
       "      <th>Inside/Outside</th>\n",
       "      <th>Weapon</th>\n",
       "      <th>Post</th>\n",
       "      <th>District</th>\n",
       "      <th>Neighborhood</th>\n",
       "      <th>Longitude</th>\n",
       "      <th>Latitude</th>\n",
       "      <th>Location 1</th>\n",
       "      <th>Premise</th>\n",
       "      <th>Total Incidents</th>\n",
       "    </tr>\n",
       "  </thead>\n",
       "  <tbody>\n",
       "    <tr>\n",
       "      <th>0</th>\n",
       "      <td>09/02/2017</td>\n",
       "      <td>23:30:00</td>\n",
       "      <td>3JK</td>\n",
       "      <td>4200 AUDREY AVE</td>\n",
       "      <td>ROBBERY - RESIDENCE</td>\n",
       "      <td>I</td>\n",
       "      <td>KNIFE</td>\n",
       "      <td>913.0</td>\n",
       "      <td>SOUTHERN</td>\n",
       "      <td>Brooklyn</td>\n",
       "      <td>-76.60541</td>\n",
       "      <td>39.22951</td>\n",
       "      <td>(39.2295100000, -76.6054100000)</td>\n",
       "      <td>ROW/TOWNHO</td>\n",
       "      <td>1</td>\n",
       "    </tr>\n",
       "    <tr>\n",
       "      <th>1</th>\n",
       "      <td>09/02/2017</td>\n",
       "      <td>23:00:00</td>\n",
       "      <td>7A</td>\n",
       "      <td>800 NEWINGTON AVE</td>\n",
       "      <td>AUTO THEFT</td>\n",
       "      <td>O</td>\n",
       "      <td>NaN</td>\n",
       "      <td>133.0</td>\n",
       "      <td>CENTRAL</td>\n",
       "      <td>Reservoir Hill</td>\n",
       "      <td>-76.63217</td>\n",
       "      <td>39.31360</td>\n",
       "      <td>(39.3136000000, -76.6321700000)</td>\n",
       "      <td>STREET</td>\n",
       "      <td>1</td>\n",
       "    </tr>\n",
       "    <tr>\n",
       "      <th>2</th>\n",
       "      <td>09/02/2017</td>\n",
       "      <td>22:53:00</td>\n",
       "      <td>9S</td>\n",
       "      <td>600 RADNOR AV</td>\n",
       "      <td>SHOOTING</td>\n",
       "      <td>Outside</td>\n",
       "      <td>FIREARM</td>\n",
       "      <td>524.0</td>\n",
       "      <td>NORTHERN</td>\n",
       "      <td>Winston-Govans</td>\n",
       "      <td>-76.60697</td>\n",
       "      <td>39.34768</td>\n",
       "      <td>(39.3476800000, -76.6069700000)</td>\n",
       "      <td>Street</td>\n",
       "      <td>1</td>\n",
       "    </tr>\n",
       "    <tr>\n",
       "      <th>3</th>\n",
       "      <td>09/02/2017</td>\n",
       "      <td>22:50:00</td>\n",
       "      <td>4C</td>\n",
       "      <td>1800 RAMSAY ST</td>\n",
       "      <td>AGG. ASSAULT</td>\n",
       "      <td>I</td>\n",
       "      <td>OTHER</td>\n",
       "      <td>934.0</td>\n",
       "      <td>SOUTHERN</td>\n",
       "      <td>Carrollton Ridge</td>\n",
       "      <td>-76.64526</td>\n",
       "      <td>39.28315</td>\n",
       "      <td>(39.2831500000, -76.6452600000)</td>\n",
       "      <td>ROW/TOWNHO</td>\n",
       "      <td>1</td>\n",
       "    </tr>\n",
       "    <tr>\n",
       "      <th>4</th>\n",
       "      <td>09/02/2017</td>\n",
       "      <td>22:31:00</td>\n",
       "      <td>4E</td>\n",
       "      <td>100 LIGHT ST</td>\n",
       "      <td>COMMON ASSAULT</td>\n",
       "      <td>O</td>\n",
       "      <td>HANDS</td>\n",
       "      <td>113.0</td>\n",
       "      <td>CENTRAL</td>\n",
       "      <td>Downtown West</td>\n",
       "      <td>-76.61365</td>\n",
       "      <td>39.28756</td>\n",
       "      <td>(39.2875600000, -76.6136500000)</td>\n",
       "      <td>STREET</td>\n",
       "      <td>1</td>\n",
       "    </tr>\n",
       "  </tbody>\n",
       "</table>\n",
       "</div>"
      ],
      "text/plain": [
       "    CrimeDate CrimeTime CrimeCode           Location          Description  \\\n",
       "0  09/02/2017  23:30:00       3JK    4200 AUDREY AVE  ROBBERY - RESIDENCE   \n",
       "1  09/02/2017  23:00:00        7A  800 NEWINGTON AVE           AUTO THEFT   \n",
       "2  09/02/2017  22:53:00        9S      600 RADNOR AV             SHOOTING   \n",
       "3  09/02/2017  22:50:00        4C     1800 RAMSAY ST         AGG. ASSAULT   \n",
       "4  09/02/2017  22:31:00        4E       100 LIGHT ST       COMMON ASSAULT   \n",
       "\n",
       "  Inside/Outside   Weapon   Post  District      Neighborhood  Longitude  \\\n",
       "0              I    KNIFE  913.0  SOUTHERN          Brooklyn  -76.60541   \n",
       "1              O      NaN  133.0   CENTRAL    Reservoir Hill  -76.63217   \n",
       "2        Outside  FIREARM  524.0  NORTHERN    Winston-Govans  -76.60697   \n",
       "3              I    OTHER  934.0  SOUTHERN  Carrollton Ridge  -76.64526   \n",
       "4              O    HANDS  113.0   CENTRAL     Downtown West  -76.61365   \n",
       "\n",
       "   Latitude                       Location 1     Premise  Total Incidents  \n",
       "0  39.22951  (39.2295100000, -76.6054100000)  ROW/TOWNHO                1  \n",
       "1  39.31360  (39.3136000000, -76.6321700000)      STREET                1  \n",
       "2  39.34768  (39.3476800000, -76.6069700000)      Street                1  \n",
       "3  39.28315  (39.2831500000, -76.6452600000)  ROW/TOWNHO                1  \n",
       "4  39.28756  (39.2875600000, -76.6136500000)      STREET                1  "
      ]
     },
     "execution_count": 8,
     "metadata": {},
     "output_type": "execute_result"
    }
   ],
   "source": [
    "df = pd.read_csv('BPD_Part_1_Victim_Based_Crime_Data.csv')\n",
    "df.head()"
   ]
  },
  {
   "cell_type": "code",
   "execution_count": 3,
   "metadata": {},
   "outputs": [
    {
     "data": {
      "text/plain": [
       "(276529, 15)"
      ]
     },
     "execution_count": 3,
     "metadata": {},
     "output_type": "execute_result"
    }
   ],
   "source": [
    "df.shape"
   ]
  },
  {
   "cell_type": "markdown",
   "metadata": {},
   "source": [
    "## Time stamps\n",
    "\n",
    "Convert strings for date and time to time stamps and create datetime stamp"
   ]
  },
  {
   "cell_type": "code",
   "execution_count": 4,
   "metadata": {},
   "outputs": [
    {
     "data": {
      "text/plain": [
       "str"
      ]
     },
     "execution_count": 4,
     "metadata": {},
     "output_type": "execute_result"
    }
   ],
   "source": [
    "type(df['CrimeDate'][0])"
   ]
  },
  {
   "cell_type": "code",
   "execution_count": 5,
   "metadata": {},
   "outputs": [
    {
     "data": {
      "text/plain": [
       "str"
      ]
     },
     "execution_count": 5,
     "metadata": {},
     "output_type": "execute_result"
    }
   ],
   "source": [
    "type(df['CrimeTime'][0])"
   ]
  },
  {
   "cell_type": "markdown",
   "metadata": {},
   "source": [
    "Fix one bad time stamp"
   ]
  },
  {
   "cell_type": "code",
   "execution_count": 9,
   "metadata": {},
   "outputs": [],
   "source": [
    "df.loc[df.CrimeTime == '24:00:00', 'CrimeTime'] = '00:00:00'"
   ]
  },
  {
   "cell_type": "code",
   "execution_count": 12,
   "metadata": {},
   "outputs": [],
   "source": [
    "df['CrimeDateTime'] = df['CrimeDate'] + ' ' + df['CrimeTime']"
   ]
  },
  {
   "cell_type": "code",
   "execution_count": 13,
   "metadata": {},
   "outputs": [
    {
     "data": {
      "text/html": [
       "<div>\n",
       "<style>\n",
       "    .dataframe thead tr:only-child th {\n",
       "        text-align: right;\n",
       "    }\n",
       "\n",
       "    .dataframe thead th {\n",
       "        text-align: left;\n",
       "    }\n",
       "\n",
       "    .dataframe tbody tr th {\n",
       "        vertical-align: top;\n",
       "    }\n",
       "</style>\n",
       "<table border=\"1\" class=\"dataframe\">\n",
       "  <thead>\n",
       "    <tr style=\"text-align: right;\">\n",
       "      <th></th>\n",
       "      <th>CrimeDate</th>\n",
       "      <th>CrimeTime</th>\n",
       "      <th>CrimeCode</th>\n",
       "      <th>Location</th>\n",
       "      <th>Description</th>\n",
       "      <th>Inside/Outside</th>\n",
       "      <th>Weapon</th>\n",
       "      <th>Post</th>\n",
       "      <th>District</th>\n",
       "      <th>Neighborhood</th>\n",
       "      <th>Longitude</th>\n",
       "      <th>Latitude</th>\n",
       "      <th>Location 1</th>\n",
       "      <th>Premise</th>\n",
       "      <th>Total Incidents</th>\n",
       "      <th>CrimeDateTime</th>\n",
       "    </tr>\n",
       "  </thead>\n",
       "  <tbody>\n",
       "    <tr>\n",
       "      <th>0</th>\n",
       "      <td>09/02/2017</td>\n",
       "      <td>23:30:00</td>\n",
       "      <td>3JK</td>\n",
       "      <td>4200 AUDREY AVE</td>\n",
       "      <td>ROBBERY - RESIDENCE</td>\n",
       "      <td>I</td>\n",
       "      <td>KNIFE</td>\n",
       "      <td>913.0</td>\n",
       "      <td>SOUTHERN</td>\n",
       "      <td>Brooklyn</td>\n",
       "      <td>-76.60541</td>\n",
       "      <td>39.22951</td>\n",
       "      <td>(39.2295100000, -76.6054100000)</td>\n",
       "      <td>ROW/TOWNHO</td>\n",
       "      <td>1</td>\n",
       "      <td>09/02/2017 23:30:00</td>\n",
       "    </tr>\n",
       "    <tr>\n",
       "      <th>1</th>\n",
       "      <td>09/02/2017</td>\n",
       "      <td>23:00:00</td>\n",
       "      <td>7A</td>\n",
       "      <td>800 NEWINGTON AVE</td>\n",
       "      <td>AUTO THEFT</td>\n",
       "      <td>O</td>\n",
       "      <td>NaN</td>\n",
       "      <td>133.0</td>\n",
       "      <td>CENTRAL</td>\n",
       "      <td>Reservoir Hill</td>\n",
       "      <td>-76.63217</td>\n",
       "      <td>39.31360</td>\n",
       "      <td>(39.3136000000, -76.6321700000)</td>\n",
       "      <td>STREET</td>\n",
       "      <td>1</td>\n",
       "      <td>09/02/2017 23:00:00</td>\n",
       "    </tr>\n",
       "    <tr>\n",
       "      <th>2</th>\n",
       "      <td>09/02/2017</td>\n",
       "      <td>22:53:00</td>\n",
       "      <td>9S</td>\n",
       "      <td>600 RADNOR AV</td>\n",
       "      <td>SHOOTING</td>\n",
       "      <td>Outside</td>\n",
       "      <td>FIREARM</td>\n",
       "      <td>524.0</td>\n",
       "      <td>NORTHERN</td>\n",
       "      <td>Winston-Govans</td>\n",
       "      <td>-76.60697</td>\n",
       "      <td>39.34768</td>\n",
       "      <td>(39.3476800000, -76.6069700000)</td>\n",
       "      <td>Street</td>\n",
       "      <td>1</td>\n",
       "      <td>09/02/2017 22:53:00</td>\n",
       "    </tr>\n",
       "    <tr>\n",
       "      <th>3</th>\n",
       "      <td>09/02/2017</td>\n",
       "      <td>22:50:00</td>\n",
       "      <td>4C</td>\n",
       "      <td>1800 RAMSAY ST</td>\n",
       "      <td>AGG. ASSAULT</td>\n",
       "      <td>I</td>\n",
       "      <td>OTHER</td>\n",
       "      <td>934.0</td>\n",
       "      <td>SOUTHERN</td>\n",
       "      <td>Carrollton Ridge</td>\n",
       "      <td>-76.64526</td>\n",
       "      <td>39.28315</td>\n",
       "      <td>(39.2831500000, -76.6452600000)</td>\n",
       "      <td>ROW/TOWNHO</td>\n",
       "      <td>1</td>\n",
       "      <td>09/02/2017 22:50:00</td>\n",
       "    </tr>\n",
       "    <tr>\n",
       "      <th>4</th>\n",
       "      <td>09/02/2017</td>\n",
       "      <td>22:31:00</td>\n",
       "      <td>4E</td>\n",
       "      <td>100 LIGHT ST</td>\n",
       "      <td>COMMON ASSAULT</td>\n",
       "      <td>O</td>\n",
       "      <td>HANDS</td>\n",
       "      <td>113.0</td>\n",
       "      <td>CENTRAL</td>\n",
       "      <td>Downtown West</td>\n",
       "      <td>-76.61365</td>\n",
       "      <td>39.28756</td>\n",
       "      <td>(39.2875600000, -76.6136500000)</td>\n",
       "      <td>STREET</td>\n",
       "      <td>1</td>\n",
       "      <td>09/02/2017 22:31:00</td>\n",
       "    </tr>\n",
       "  </tbody>\n",
       "</table>\n",
       "</div>"
      ],
      "text/plain": [
       "    CrimeDate CrimeTime CrimeCode           Location          Description  \\\n",
       "0  09/02/2017  23:30:00       3JK    4200 AUDREY AVE  ROBBERY - RESIDENCE   \n",
       "1  09/02/2017  23:00:00        7A  800 NEWINGTON AVE           AUTO THEFT   \n",
       "2  09/02/2017  22:53:00        9S      600 RADNOR AV             SHOOTING   \n",
       "3  09/02/2017  22:50:00        4C     1800 RAMSAY ST         AGG. ASSAULT   \n",
       "4  09/02/2017  22:31:00        4E       100 LIGHT ST       COMMON ASSAULT   \n",
       "\n",
       "  Inside/Outside   Weapon   Post  District      Neighborhood  Longitude  \\\n",
       "0              I    KNIFE  913.0  SOUTHERN          Brooklyn  -76.60541   \n",
       "1              O      NaN  133.0   CENTRAL    Reservoir Hill  -76.63217   \n",
       "2        Outside  FIREARM  524.0  NORTHERN    Winston-Govans  -76.60697   \n",
       "3              I    OTHER  934.0  SOUTHERN  Carrollton Ridge  -76.64526   \n",
       "4              O    HANDS  113.0   CENTRAL     Downtown West  -76.61365   \n",
       "\n",
       "   Latitude                       Location 1     Premise  Total Incidents  \\\n",
       "0  39.22951  (39.2295100000, -76.6054100000)  ROW/TOWNHO                1   \n",
       "1  39.31360  (39.3136000000, -76.6321700000)      STREET                1   \n",
       "2  39.34768  (39.3476800000, -76.6069700000)      Street                1   \n",
       "3  39.28315  (39.2831500000, -76.6452600000)  ROW/TOWNHO                1   \n",
       "4  39.28756  (39.2875600000, -76.6136500000)      STREET                1   \n",
       "\n",
       "         CrimeDateTime  \n",
       "0  09/02/2017 23:30:00  \n",
       "1  09/02/2017 23:00:00  \n",
       "2  09/02/2017 22:53:00  \n",
       "3  09/02/2017 22:50:00  \n",
       "4  09/02/2017 22:31:00  "
      ]
     },
     "execution_count": 13,
     "metadata": {},
     "output_type": "execute_result"
    }
   ],
   "source": [
    "df.head()"
   ]
  },
  {
   "cell_type": "code",
   "execution_count": 14,
   "metadata": {},
   "outputs": [],
   "source": [
    "df['CrimeDate'] = pd.to_datetime(df['CrimeDate'])"
   ]
  },
  {
   "cell_type": "code",
   "execution_count": 15,
   "metadata": {},
   "outputs": [],
   "source": [
    "df['CrimeTime'] = pd.to_datetime(df['CrimeTime'],format= '%H:%M:%S' ).dt.time"
   ]
  },
  {
   "cell_type": "code",
   "execution_count": 16,
   "metadata": {},
   "outputs": [],
   "source": [
    "df['CrimeDateTime'] = pd.to_datetime(df['CrimeDateTime'])"
   ]
  },
  {
   "cell_type": "code",
   "execution_count": 17,
   "metadata": {},
   "outputs": [
    {
     "data": {
      "text/html": [
       "<div>\n",
       "<style>\n",
       "    .dataframe thead tr:only-child th {\n",
       "        text-align: right;\n",
       "    }\n",
       "\n",
       "    .dataframe thead th {\n",
       "        text-align: left;\n",
       "    }\n",
       "\n",
       "    .dataframe tbody tr th {\n",
       "        vertical-align: top;\n",
       "    }\n",
       "</style>\n",
       "<table border=\"1\" class=\"dataframe\">\n",
       "  <thead>\n",
       "    <tr style=\"text-align: right;\">\n",
       "      <th></th>\n",
       "      <th>CrimeDate</th>\n",
       "      <th>CrimeTime</th>\n",
       "      <th>CrimeCode</th>\n",
       "      <th>Location</th>\n",
       "      <th>Description</th>\n",
       "      <th>Inside/Outside</th>\n",
       "      <th>Weapon</th>\n",
       "      <th>Post</th>\n",
       "      <th>District</th>\n",
       "      <th>Neighborhood</th>\n",
       "      <th>Longitude</th>\n",
       "      <th>Latitude</th>\n",
       "      <th>Location 1</th>\n",
       "      <th>Premise</th>\n",
       "      <th>Total Incidents</th>\n",
       "      <th>CrimeDateTime</th>\n",
       "    </tr>\n",
       "  </thead>\n",
       "  <tbody>\n",
       "    <tr>\n",
       "      <th>0</th>\n",
       "      <td>2017-09-02</td>\n",
       "      <td>23:30:00</td>\n",
       "      <td>3JK</td>\n",
       "      <td>4200 AUDREY AVE</td>\n",
       "      <td>ROBBERY - RESIDENCE</td>\n",
       "      <td>I</td>\n",
       "      <td>KNIFE</td>\n",
       "      <td>913.0</td>\n",
       "      <td>SOUTHERN</td>\n",
       "      <td>Brooklyn</td>\n",
       "      <td>-76.60541</td>\n",
       "      <td>39.22951</td>\n",
       "      <td>(39.2295100000, -76.6054100000)</td>\n",
       "      <td>ROW/TOWNHO</td>\n",
       "      <td>1</td>\n",
       "      <td>2017-09-02 23:30:00</td>\n",
       "    </tr>\n",
       "    <tr>\n",
       "      <th>1</th>\n",
       "      <td>2017-09-02</td>\n",
       "      <td>23:00:00</td>\n",
       "      <td>7A</td>\n",
       "      <td>800 NEWINGTON AVE</td>\n",
       "      <td>AUTO THEFT</td>\n",
       "      <td>O</td>\n",
       "      <td>NaN</td>\n",
       "      <td>133.0</td>\n",
       "      <td>CENTRAL</td>\n",
       "      <td>Reservoir Hill</td>\n",
       "      <td>-76.63217</td>\n",
       "      <td>39.31360</td>\n",
       "      <td>(39.3136000000, -76.6321700000)</td>\n",
       "      <td>STREET</td>\n",
       "      <td>1</td>\n",
       "      <td>2017-09-02 23:00:00</td>\n",
       "    </tr>\n",
       "    <tr>\n",
       "      <th>2</th>\n",
       "      <td>2017-09-02</td>\n",
       "      <td>22:53:00</td>\n",
       "      <td>9S</td>\n",
       "      <td>600 RADNOR AV</td>\n",
       "      <td>SHOOTING</td>\n",
       "      <td>Outside</td>\n",
       "      <td>FIREARM</td>\n",
       "      <td>524.0</td>\n",
       "      <td>NORTHERN</td>\n",
       "      <td>Winston-Govans</td>\n",
       "      <td>-76.60697</td>\n",
       "      <td>39.34768</td>\n",
       "      <td>(39.3476800000, -76.6069700000)</td>\n",
       "      <td>Street</td>\n",
       "      <td>1</td>\n",
       "      <td>2017-09-02 22:53:00</td>\n",
       "    </tr>\n",
       "    <tr>\n",
       "      <th>3</th>\n",
       "      <td>2017-09-02</td>\n",
       "      <td>22:50:00</td>\n",
       "      <td>4C</td>\n",
       "      <td>1800 RAMSAY ST</td>\n",
       "      <td>AGG. ASSAULT</td>\n",
       "      <td>I</td>\n",
       "      <td>OTHER</td>\n",
       "      <td>934.0</td>\n",
       "      <td>SOUTHERN</td>\n",
       "      <td>Carrollton Ridge</td>\n",
       "      <td>-76.64526</td>\n",
       "      <td>39.28315</td>\n",
       "      <td>(39.2831500000, -76.6452600000)</td>\n",
       "      <td>ROW/TOWNHO</td>\n",
       "      <td>1</td>\n",
       "      <td>2017-09-02 22:50:00</td>\n",
       "    </tr>\n",
       "    <tr>\n",
       "      <th>4</th>\n",
       "      <td>2017-09-02</td>\n",
       "      <td>22:31:00</td>\n",
       "      <td>4E</td>\n",
       "      <td>100 LIGHT ST</td>\n",
       "      <td>COMMON ASSAULT</td>\n",
       "      <td>O</td>\n",
       "      <td>HANDS</td>\n",
       "      <td>113.0</td>\n",
       "      <td>CENTRAL</td>\n",
       "      <td>Downtown West</td>\n",
       "      <td>-76.61365</td>\n",
       "      <td>39.28756</td>\n",
       "      <td>(39.2875600000, -76.6136500000)</td>\n",
       "      <td>STREET</td>\n",
       "      <td>1</td>\n",
       "      <td>2017-09-02 22:31:00</td>\n",
       "    </tr>\n",
       "  </tbody>\n",
       "</table>\n",
       "</div>"
      ],
      "text/plain": [
       "   CrimeDate CrimeTime CrimeCode           Location          Description  \\\n",
       "0 2017-09-02  23:30:00       3JK    4200 AUDREY AVE  ROBBERY - RESIDENCE   \n",
       "1 2017-09-02  23:00:00        7A  800 NEWINGTON AVE           AUTO THEFT   \n",
       "2 2017-09-02  22:53:00        9S      600 RADNOR AV             SHOOTING   \n",
       "3 2017-09-02  22:50:00        4C     1800 RAMSAY ST         AGG. ASSAULT   \n",
       "4 2017-09-02  22:31:00        4E       100 LIGHT ST       COMMON ASSAULT   \n",
       "\n",
       "  Inside/Outside   Weapon   Post  District      Neighborhood  Longitude  \\\n",
       "0              I    KNIFE  913.0  SOUTHERN          Brooklyn  -76.60541   \n",
       "1              O      NaN  133.0   CENTRAL    Reservoir Hill  -76.63217   \n",
       "2        Outside  FIREARM  524.0  NORTHERN    Winston-Govans  -76.60697   \n",
       "3              I    OTHER  934.0  SOUTHERN  Carrollton Ridge  -76.64526   \n",
       "4              O    HANDS  113.0   CENTRAL     Downtown West  -76.61365   \n",
       "\n",
       "   Latitude                       Location 1     Premise  Total Incidents  \\\n",
       "0  39.22951  (39.2295100000, -76.6054100000)  ROW/TOWNHO                1   \n",
       "1  39.31360  (39.3136000000, -76.6321700000)      STREET                1   \n",
       "2  39.34768  (39.3476800000, -76.6069700000)      Street                1   \n",
       "3  39.28315  (39.2831500000, -76.6452600000)  ROW/TOWNHO                1   \n",
       "4  39.28756  (39.2875600000, -76.6136500000)      STREET                1   \n",
       "\n",
       "        CrimeDateTime  \n",
       "0 2017-09-02 23:30:00  \n",
       "1 2017-09-02 23:00:00  \n",
       "2 2017-09-02 22:53:00  \n",
       "3 2017-09-02 22:50:00  \n",
       "4 2017-09-02 22:31:00  "
      ]
     },
     "execution_count": 17,
     "metadata": {},
     "output_type": "execute_result"
    }
   ],
   "source": [
    "df.head()"
   ]
  },
  {
   "cell_type": "markdown",
   "metadata": {},
   "source": [
    "## Inside/Outside Coding\n",
    "\n",
    "Fix inconsistent coding of `Inside/Outside` column. Both I/O and Inside/Outside are used in original dataset"
   ]
  },
  {
   "cell_type": "code",
   "execution_count": 21,
   "metadata": {},
   "outputs": [
    {
     "data": {
      "text/plain": [
       "I          131999\n",
       "O          129782\n",
       "Outside      3837\n",
       "Inside        632\n",
       "Name: Inside/Outside, dtype: int64"
      ]
     },
     "execution_count": 21,
     "metadata": {},
     "output_type": "execute_result"
    }
   ],
   "source": [
    "df['Inside/Outside'].value_counts()"
   ]
  },
  {
   "cell_type": "code",
   "execution_count": 22,
   "metadata": {},
   "outputs": [
    {
     "data": {
      "text/plain": [
       "Outside    133619\n",
       "Inside     132631\n",
       "Name: Inside/Outside, dtype: int64"
      ]
     },
     "execution_count": 22,
     "metadata": {},
     "output_type": "execute_result"
    }
   ],
   "source": [
    "df.loc[df['Inside/Outside'] == 'I', 'Inside/Outside'] = 'Inside'\n",
    "df.loc[df['Inside/Outside'] == 'O', 'Inside/Outside'] = 'Outside'\n",
    "df['Inside/Outside'].value_counts()"
   ]
  },
  {
   "cell_type": "markdown",
   "metadata": {},
   "source": [
    "## Check other categories\n",
    "\n",
    "`Description`, `Weapon`, and `District` seems to have clear categories. `Neighborhood` has 278 distinct values  with some containing a `/`."
   ]
  },
  {
   "cell_type": "code",
   "execution_count": 20,
   "metadata": {},
   "outputs": [
    {
     "data": {
      "text/plain": [
       "LARCENY                 60528\n",
       "COMMON ASSAULT          45518\n",
       "BURGLARY                42538\n",
       "LARCENY FROM AUTO       36295\n",
       "AGG. ASSAULT            27513\n",
       "AUTO THEFT              26838\n",
       "ROBBERY - STREET        17691\n",
       "ROBBERY - COMMERCIAL     4141\n",
       "ASSAULT BY THREAT        3503\n",
       "SHOOTING                 2910\n",
       "ROBBERY - RESIDENCE      2866\n",
       "RAPE                     1637\n",
       "HOMICIDE                 1559\n",
       "ROBBERY - CARJACKING     1528\n",
       "ARSON                    1464\n",
       "Name: Description, dtype: int64"
      ]
     },
     "execution_count": 20,
     "metadata": {},
     "output_type": "execute_result"
    }
   ],
   "source": [
    "df['Description'].value_counts()"
   ]
  },
  {
   "cell_type": "code",
   "execution_count": 23,
   "metadata": {},
   "outputs": [
    {
     "data": {
      "text/plain": [
       "HANDS      48995\n",
       "FIREARM    22312\n",
       "OTHER      14620\n",
       "KNIFE       9650\n",
       "Name: Weapon, dtype: int64"
      ]
     },
     "execution_count": 23,
     "metadata": {},
     "output_type": "execute_result"
    }
   ],
   "source": [
    "df['Weapon'].value_counts()"
   ]
  },
  {
   "cell_type": "code",
   "execution_count": 24,
   "metadata": {},
   "outputs": [
    {
     "data": {
      "text/plain": [
       "NORTHEASTERN    43006\n",
       "SOUTHEASTERN    38291\n",
       "SOUTHERN        31850\n",
       "NORTHERN        31665\n",
       "CENTRAL         31631\n",
       "NORTHWESTERN    28061\n",
       "SOUTHWESTERN    26092\n",
       "EASTERN         23635\n",
       "WESTERN         22218\n",
       "Name: District, dtype: int64"
      ]
     },
     "execution_count": 24,
     "metadata": {},
     "output_type": "execute_result"
    }
   ],
   "source": [
    "df['District'].value_counts()"
   ]
  },
  {
   "cell_type": "code",
   "execution_count": 25,
   "metadata": {},
   "outputs": [
    {
     "data": {
      "text/plain": [
       "Downtown                     9048\n",
       "Frankford                    6642\n",
       "Belair-Edison                5977\n",
       "Brooklyn                     4516\n",
       "Cherry Hill                  4086\n",
       "Sandtown-Winchester          4026\n",
       "Canton                       3787\n",
       "Inner Harbor                 3414\n",
       "Upton                        3385\n",
       "Patterson Park Neighborho    3368\n",
       "Fells Point                  3316\n",
       "Coldstream Homestead Mont    3307\n",
       "Hamilton Hills               3303\n",
       "Mondawmin                    3251\n",
       "Washington Village/Pigtow    3223\n",
       "McElderry Park               3004\n",
       "Central Park Heights         2960\n",
       "Mount Vernon                 2751\n",
       "Broadway East                2741\n",
       "Carrollton Ridge             2653\n",
       "Hampden                      2524\n",
       "East Baltimore Midway        2460\n",
       "Reservoir Hill               2426\n",
       "Oliver                       2376\n",
       "Ellwood Park/Monument        2364\n",
       "Mid-Town Belvedere           2362\n",
       "Harlem Park                  2172\n",
       "Charles Village              2158\n",
       "Baltimore Highlands          2104\n",
       "Better Waverly               2028\n",
       "                             ... \n",
       "Johns Hopkins Homewood        170\n",
       "Cedarcroft                    166\n",
       "Belair-Parkside               160\n",
       "Oaklee                        156\n",
       "Hawkins Point                 148\n",
       "Sabina-Mattfeldt              144\n",
       "Purnell                       138\n",
       "Wrenlane                      126\n",
       "Dickeyville                   113\n",
       "Holabird Industrial Park      107\n",
       "Evergreen                     106\n",
       "Loyola/Notre Dame              97\n",
       "Forest Park Golf Course        89\n",
       "The Orchards                   88\n",
       "Gwynns Falls/Leakin Park       83\n",
       "Keswick                        82\n",
       "Eastwood                       81\n",
       "Bellona-Gittings               76\n",
       "Spring Garden Industrial       74\n",
       "Saint Paul                     67\n",
       "Curtis Bay Industrial Are      62\n",
       "Herring Run Park               56\n",
       "Morgan Park                    46\n",
       "Lower Herring Run Park         42\n",
       "Taylor Heights                 40\n",
       "Villages Of Homeland           37\n",
       "Greenmount Cemetery            23\n",
       "Mt Pleasant Park               13\n",
       "Blythewood                      4\n",
       "Dundalk Marine Terminal         1\n",
       "Name: Neighborhood, Length: 278, dtype: int64"
      ]
     },
     "execution_count": 25,
     "metadata": {},
     "output_type": "execute_result"
    }
   ],
   "source": [
    "df['Neighborhood'].value_counts()"
   ]
  },
  {
   "cell_type": "markdown",
   "metadata": {},
   "source": [
    "## Normalize premise\n",
    "\n",
    "There are 124 distinct values for `Premise` and some are the same code but with different casing. Cast all strings to upper to reduce distinct values to 119, but further exploration on how to standardize these categories may be necessary"
   ]
  },
  {
   "cell_type": "code",
   "execution_count": 30,
   "metadata": {},
   "outputs": [
    {
     "data": {
      "text/plain": [
       "124"
      ]
     },
     "execution_count": 30,
     "metadata": {},
     "output_type": "execute_result"
    }
   ],
   "source": [
    "len(df['Premise'].unique())"
   ]
  },
  {
   "cell_type": "code",
   "execution_count": 31,
   "metadata": {},
   "outputs": [
    {
     "data": {
      "text/plain": [
       "array(['ROW/TOWNHO', 'STREET', 'Street', 'RETAIL/SMA', nan, 'YARD',\n",
       "       'OTHER - IN', 'CONVENIENC', 'OFFICE BUI', 'APT/CONDO',\n",
       "       'PARKING LO', 'LAUNDRY/CL', 'CARRY OUT', 'HOSP/NURS.',\n",
       "       'RESTAURANT', 'BAR', 'GARAGE ON', 'ALLEY', 'DRIVEWAY',\n",
       "       'PORCH/DECK', 'SHED/GARAG', 'TRACTOR TR', 'GAS STATIO',\n",
       "       'PLAYGROUND', 'BUS/AUTO', 'DRUG STORE', 'PARK', 'GROCERY/CO',\n",
       "       'CAR LOT-NE', 'SHOPPING M', 'LIQUOR STO', 'CHAIN FOOD',\n",
       "       'OTHER - OU', 'POLICE DEP', 'CLOTHING/S', 'YARD/BUSIN',\n",
       "       'SPECIALTY', 'POOL/BOWLI', 'INNER HARB', 'VACANT BUI', 'SCHOOL',\n",
       "       'OTHER/RESI', 'HOTEL/MOTE', 'DEPARTMENT', 'WAREHOUSE',\n",
       "       'BUS.  STOR', 'RELIGIOUS', 'Dwelling', 'TAVERN/NIG', 'APARTMENT',\n",
       "       'BARBER/BEA', 'SINGLE HOU', 'PUBLIC BUI', 'MINI STORA',\n",
       "       'FAST FOOD', 'DOCTORS OF', 'STADIUM', 'HOUSE UNDE', 'UNKNOWN',\n",
       "       'Alley', 'BUS/RAILRO', 'LIBRARY', 'CAR  REPAI', 'AUTO PARTS',\n",
       "       'CONSTRUCTI', 'Parking Lo', 'WHOLESALE/', 'Gas Statio', 'Vehicle',\n",
       "       'FIRE DEPAR', 'PUBLIC HOU', 'RACE TRACK', 'RECREATION',\n",
       "       'BUS. PARK', 'BANK/FINAN', 'Common Bus', 'MARKET STA', 'CEMETERY',\n",
       "       'BLDG UNDER', 'Hospital', 'FINANCE/LO', 'COURT HOUS', 'BAKERY',\n",
       "       'BOX CARS/C', 'Public Are', 'PAWN SHOP', 'BOAT/SHIP', 'VACANT LOT',\n",
       "       'CLUB HOUSE', 'HARDWARE/B', 'CONVENTION', 'MAILBOX-ST',\n",
       "       'SCHOOL PLA', 'SUBWAY', 'ARENA', 'CAB', 'Day Care F', 'Public Hou',\n",
       "       'PENITENTIA', 'APT. LOCKE', 'JEWELRY ST', 'MANUFACTUR',\n",
       "       'PIZZA/OTHE', 'THEATRE', 'ATM MACHIN', 'BRIDGE-PIE', 'Vacant Dwe',\n",
       "       'BOAT YARD', 'NIGHT DEPO', 'STRUCTURE-', 'SALESMAN/C',\n",
       "       'RENTAL/VID', 'LIGHT RAIL', 'Church', 'RAILROAD C', 'Garage',\n",
       "       'Public Sch', 'PHOTO STUD', 'UTILITIES-', 'MTA LOT', 'MOBILE HOM',\n",
       "       'SKYWALK', 'TRUCKING &', 'Private Sc'], dtype=object)"
      ]
     },
     "execution_count": 31,
     "metadata": {},
     "output_type": "execute_result"
    }
   ],
   "source": [
    "df['Premise'].unique()"
   ]
  },
  {
   "cell_type": "code",
   "execution_count": 37,
   "metadata": {},
   "outputs": [
    {
     "data": {
      "text/plain": [
       "119"
      ]
     },
     "execution_count": 37,
     "metadata": {},
     "output_type": "execute_result"
    }
   ],
   "source": [
    "df['Premise'] = df['Premise'].apply(lambda x: str(x).upper())\n",
    "len(df['Premise'].unique())"
   ]
  },
  {
   "cell_type": "code",
   "execution_count": 44,
   "metadata": {},
   "outputs": [
    {
     "data": {
      "text/plain": [
       "array(['ALLEY', 'APARTMENT', 'APT. LOCKE', 'APT/CONDO', 'ARENA',\n",
       "       'ATM MACHIN', 'AUTO PARTS', 'BAKERY', 'BANK/FINAN', 'BAR',\n",
       "       'BARBER/BEA', 'BLDG UNDER', 'BOAT YARD', 'BOAT/SHIP', 'BOX CARS/C',\n",
       "       'BRIDGE-PIE', 'BUS.  STOR', 'BUS. PARK', 'BUS/AUTO', 'BUS/RAILRO',\n",
       "       'CAB', 'CAR  REPAI', 'CAR LOT-NE', 'CARRY OUT', 'CEMETERY',\n",
       "       'CHAIN FOOD', 'CHURCH', 'CLOTHING/S', 'CLUB HOUSE', 'COMMON BUS',\n",
       "       'CONSTRUCTI', 'CONVENIENC', 'CONVENTION', 'COURT HOUS',\n",
       "       'DAY CARE F', 'DEPARTMENT', 'DOCTORS OF', 'DRIVEWAY', 'DRUG STORE',\n",
       "       'DWELLING', 'FAST FOOD', 'FINANCE/LO', 'FIRE DEPAR', 'GARAGE',\n",
       "       'GARAGE ON', 'GAS STATIO', 'GROCERY/CO', 'HARDWARE/B',\n",
       "       'HOSP/NURS.', 'HOSPITAL', 'HOTEL/MOTE', 'HOUSE UNDE', 'INNER HARB',\n",
       "       'JEWELRY ST', 'LAUNDRY/CL', 'LIBRARY', 'LIGHT RAIL', 'LIQUOR STO',\n",
       "       'MAILBOX-ST', 'MANUFACTUR', 'MARKET STA', 'MINI STORA',\n",
       "       'MOBILE HOM', 'MTA LOT', 'NAN', 'NIGHT DEPO', 'OFFICE BUI',\n",
       "       'OTHER - IN', 'OTHER - OU', 'OTHER/RESI', 'PARK', 'PARKING LO',\n",
       "       'PAWN SHOP', 'PENITENTIA', 'PHOTO STUD', 'PIZZA/OTHE',\n",
       "       'PLAYGROUND', 'POLICE DEP', 'POOL/BOWLI', 'PORCH/DECK',\n",
       "       'PRIVATE SC', 'PUBLIC ARE', 'PUBLIC BUI', 'PUBLIC HOU',\n",
       "       'PUBLIC SCH', 'RACE TRACK', 'RAILROAD C', 'RECREATION',\n",
       "       'RELIGIOUS', 'RENTAL/VID', 'RESTAURANT', 'RETAIL/SMA',\n",
       "       'ROW/TOWNHO', 'SALESMAN/C', 'SCHOOL', 'SCHOOL PLA', 'SHED/GARAG',\n",
       "       'SHOPPING M', 'SINGLE HOU', 'SKYWALK', 'SPECIALTY', 'STADIUM',\n",
       "       'STREET', 'STRUCTURE-', 'SUBWAY', 'TAVERN/NIG', 'THEATRE',\n",
       "       'TRACTOR TR', 'TRUCKING &', 'UNKNOWN', 'UTILITIES-', 'VACANT BUI',\n",
       "       'VACANT DWE', 'VACANT LOT', 'VEHICLE', 'WAREHOUSE', 'WHOLESALE/',\n",
       "       'YARD', 'YARD/BUSIN'], dtype=object)"
      ]
     },
     "execution_count": 44,
     "metadata": {},
     "output_type": "execute_result"
    }
   ],
   "source": [
    "np.sort(df['Premise'].unique())"
   ]
  },
  {
   "cell_type": "markdown",
   "metadata": {},
   "source": [
    "## Check numeric datatypes"
   ]
  },
  {
   "cell_type": "code",
   "execution_count": 47,
   "metadata": {},
   "outputs": [
    {
     "data": {
      "text/plain": [
       "numpy.float64"
      ]
     },
     "execution_count": 47,
     "metadata": {},
     "output_type": "execute_result"
    }
   ],
   "source": [
    "type(df['Longitude'][0])"
   ]
  },
  {
   "cell_type": "code",
   "execution_count": 48,
   "metadata": {},
   "outputs": [
    {
     "data": {
      "text/plain": [
       "numpy.float64"
      ]
     },
     "execution_count": 48,
     "metadata": {},
     "output_type": "execute_result"
    }
   ],
   "source": [
    "type(df['Latitude'][0])"
   ]
  },
  {
   "cell_type": "code",
   "execution_count": 51,
   "metadata": {},
   "outputs": [
    {
     "data": {
      "text/plain": [
       "numpy.int64"
      ]
     },
     "execution_count": 51,
     "metadata": {},
     "output_type": "execute_result"
    }
   ],
   "source": [
    "type(df['Total Incidents'][0])"
   ]
  },
  {
   "cell_type": "markdown",
   "metadata": {},
   "source": [
    "## Write out clean .csv"
   ]
  },
  {
   "cell_type": "code",
   "execution_count": 53,
   "metadata": {},
   "outputs": [],
   "source": [
    "df.to_csv('baltimore_crime.csv', index=False)"
   ]
  },
  {
   "cell_type": "code",
   "execution_count": null,
   "metadata": {},
   "outputs": [],
   "source": []
  }
 ],
 "metadata": {
  "kernelspec": {
   "display_name": "Python [default]",
   "language": "python",
   "name": "python3"
  },
  "language_info": {
   "codemirror_mode": {
    "name": "ipython",
    "version": 3
   },
   "file_extension": ".py",
   "mimetype": "text/x-python",
   "name": "python",
   "nbconvert_exporter": "python",
   "pygments_lexer": "ipython3",
   "version": "3.6.3"
  }
 },
 "nbformat": 4,
 "nbformat_minor": 2
}
